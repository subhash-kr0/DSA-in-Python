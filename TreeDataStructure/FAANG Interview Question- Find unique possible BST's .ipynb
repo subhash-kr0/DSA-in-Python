{
 "cells": [
  {
   "cell_type": "code",
   "execution_count": 2,
   "id": "8d5ae639",
   "metadata": {},
   "outputs": [
    {
     "name": "stdout",
     "output_type": "stream",
     "text": [
      "Number of unique possible BST 1430\n"
     ]
    }
   ],
   "source": [
    "## Method Definition\n",
    "def finduniqueBST(n):\n",
    "    n1, n2, sum_Val = 0, 0, 0\n",
    "    ## Base case condition\n",
    "    if n == 0 or n == 1:\n",
    "        return 1\n",
    "    \n",
    "    ## Catalan number series\n",
    "    for i in range(1,n+1):\n",
    "        n1 = finduniqueBST(i-1)\n",
    "        n2 = finduniqueBST(n-i)\n",
    "        sum_Val += n1*n2\n",
    "    return sum_Val\n",
    "\n",
    "## Driver code\n",
    "## n indicates the number of nodes in the BST(unique)\n",
    "n = 8\n",
    "result = finduniqueBST(n)\n",
    "print(\"Number of unique possible BST\", result)"
   ]
  },
  {
   "cell_type": "code",
   "execution_count": null,
   "id": "085f54fd",
   "metadata": {},
   "outputs": [],
   "source": []
  }
 ],
 "metadata": {
  "kernelspec": {
   "display_name": "Python 3 (ipykernel)",
   "language": "python",
   "name": "python3"
  },
  "language_info": {
   "codemirror_mode": {
    "name": "ipython",
    "version": 3
   },
   "file_extension": ".py",
   "mimetype": "text/x-python",
   "name": "python",
   "nbconvert_exporter": "python",
   "pygments_lexer": "ipython3",
   "version": "3.9.12"
  }
 },
 "nbformat": 4,
 "nbformat_minor": 5
}
