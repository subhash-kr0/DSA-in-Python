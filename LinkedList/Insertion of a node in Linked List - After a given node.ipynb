{
 "cells": [
  {
   "cell_type": "code",
   "execution_count": 6,
   "id": "1251ba4b",
   "metadata": {},
   "outputs": [
    {
     "name": "stdout",
     "output_type": "stream",
     "text": [
      "Original Linked List\n",
      "12  8  9  10  16  14  \n",
      "Insertion after any node\n",
      "12  8  23  9  10  16  14  "
     ]
    }
   ],
   "source": [
    "class Node:\n",
    "    def __init__(self, data):\n",
    "        self.data = data\n",
    "        self.next = None\n",
    "\n",
    "class LinkedList:\n",
    "    def __init__(self):\n",
    "        self.head = None\n",
    "        \n",
    "     ## insert at the ending of the linked list\n",
    "    def insertAtEnd(self, new_data):\n",
    "        ## creation of the new node\n",
    "        new_node = Node(new_data)\n",
    "        \n",
    "        ## linked list is empty\n",
    "        if self.head is None:\n",
    "            self.head = new_node\n",
    "            return\n",
    "        \n",
    "        ## insertion at the end\n",
    "        temp = self.head\n",
    "        while temp.next:\n",
    "            temp = temp.next\n",
    "        \n",
    "        temp.next = new_node\n",
    "    \n",
    "    ##insertion after the node in the linked list\n",
    "    def insertAfterNode(self, prev_node, new_data):\n",
    "        if prev_node is None:\n",
    "            print(\"Given node must be available inside the linked list\")\n",
    "            return\n",
    "        new_node = Node(new_data)\n",
    "        new_node.next = prev_node.next\n",
    "        prev_node.next = new_node\n",
    "    \n",
    "    \n",
    "    ## print the linked list\n",
    "    def printList(self):\n",
    "        temp = self.head\n",
    "        while temp:\n",
    "            print(str(temp.data)+\" \",end=\" \")\n",
    "            temp = temp.next\n",
    "   \n",
    "    \n",
    "## Driver code\n",
    "llist = LinkedList()\n",
    "## function calling\n",
    "llist.insertAtEnd(12)\n",
    "llist.insertAtEnd(8)\n",
    "llist.insertAtEnd(9)\n",
    "llist.insertAtEnd(10)\n",
    "llist.insertAtEnd(16)\n",
    "llist.insertAtEnd(14)\n",
    "print(\"Original Linked List\")\n",
    "llist.printList()\n",
    "print()\n",
    "llist.insertAfterNode(llist.head.next, 23)\n",
    "print(\"Insertion after any node\")\n",
    "llist.printList()"
   ]
  },
  {
   "cell_type": "code",
   "execution_count": null,
   "id": "ce56be33",
   "metadata": {},
   "outputs": [],
   "source": []
  }
 ],
 "metadata": {
  "kernelspec": {
   "display_name": "Python 3 (ipykernel)",
   "language": "python",
   "name": "python3"
  },
  "language_info": {
   "codemirror_mode": {
    "name": "ipython",
    "version": 3
   },
   "file_extension": ".py",
   "mimetype": "text/x-python",
   "name": "python",
   "nbconvert_exporter": "python",
   "pygments_lexer": "ipython3",
   "version": "3.9.12"
  }
 },
 "nbformat": 4,
 "nbformat_minor": 5
}
