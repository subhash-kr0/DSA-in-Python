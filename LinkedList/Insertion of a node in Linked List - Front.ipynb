{
 "cells": [
  {
   "cell_type": "code",
   "execution_count": 5,
   "id": "65c24be1",
   "metadata": {},
   "outputs": [
    {
     "name": "stdout",
     "output_type": "stream",
     "text": [
      "10  9  8  12  "
     ]
    }
   ],
   "source": [
    "class Node:\n",
    "    def __init__(self, data):\n",
    "        self.data = data\n",
    "        self.next = None\n",
    "\n",
    "class LinkedList:\n",
    "    def __init__(self):\n",
    "        self.head = None\n",
    "    \n",
    "    ## insert at the front/beginning of the linked list\n",
    "    def insertAtBeginning(self, new_data):\n",
    "        ## creation of the new node\n",
    "        new_node = Node(new_data)\n",
    "        ## insertion at the beginning\n",
    "        new_node.next = self.head\n",
    "        self.head = new_node\n",
    "    \n",
    "    ## print the linked list\n",
    "    def printList(self):\n",
    "        temp = self.head\n",
    "        while temp:\n",
    "            print(str(temp.data)+\" \",end=\" \")\n",
    "            temp = temp.next\n",
    "\n",
    "## Driver code\n",
    "llist = LinkedList()\n",
    "## function calling\n",
    "llist.insertAtBeginning(12)\n",
    "llist.insertAtBeginning(8)\n",
    "llist.insertAtBeginning(9)\n",
    "llist.insertAtBeginning(10)\n",
    "llist.printList()"
   ]
  },
  {
   "cell_type": "code",
   "execution_count": null,
   "id": "6915e5b3",
   "metadata": {},
   "outputs": [],
   "source": []
  }
 ],
 "metadata": {
  "kernelspec": {
   "display_name": "Python 3 (ipykernel)",
   "language": "python",
   "name": "python3"
  },
  "language_info": {
   "codemirror_mode": {
    "name": "ipython",
    "version": 3
   },
   "file_extension": ".py",
   "mimetype": "text/x-python",
   "name": "python",
   "nbconvert_exporter": "python",
   "pygments_lexer": "ipython3",
   "version": "3.9.12"
  }
 },
 "nbformat": 4,
 "nbformat_minor": 5
}
