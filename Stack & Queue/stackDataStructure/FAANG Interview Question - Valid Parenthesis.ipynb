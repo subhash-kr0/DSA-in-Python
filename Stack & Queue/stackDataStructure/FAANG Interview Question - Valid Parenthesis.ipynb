{
 "cells": [
  {
   "cell_type": "code",
   "execution_count": 3,
   "id": "695699a5",
   "metadata": {},
   "outputs": [
    {
     "name": "stdout",
     "output_type": "stream",
     "text": [
      "String contains an invalild parenthesis\n"
     ]
    }
   ],
   "source": [
    "## Method Definition\n",
    "## Time complexity: O(n)\n",
    "def isValidParen(string):\n",
    "    open_param = set([\"(\", \"[\", \"{\"])\n",
    "    dictionary = {\"(\":\")\", \"[\":\"]\", \"{\":\"}\"}\n",
    "    stack = []\n",
    "    \n",
    "    for char in string:\n",
    "        if char in open_param:\n",
    "            ## add the element in the stack\n",
    "            stack.append(char)\n",
    "        elif stack and char == dictionary[stack[-1]]:\n",
    "            ## pop/delete the element from the stack\n",
    "            stack.pop()\n",
    "        else:\n",
    "            return False\n",
    "    return stack == []\n",
    "\n",
    "\n",
    "## Driver code\n",
    "string1 = \"{[]}\"\n",
    "string2 = \"{[[]}\"\n",
    "\n",
    "if isValidParen(string2):\n",
    "    print('String contains a valid parenthesis')\n",
    "else:\n",
    "    print('String contains an invalild parenthesis')"
   ]
  },
  {
   "cell_type": "code",
   "execution_count": null,
   "id": "fcc93b38",
   "metadata": {},
   "outputs": [],
   "source": []
  }
 ],
 "metadata": {
  "kernelspec": {
   "display_name": "Python 3 (ipykernel)",
   "language": "python",
   "name": "python3"
  },
  "language_info": {
   "codemirror_mode": {
    "name": "ipython",
    "version": 3
   },
   "file_extension": ".py",
   "mimetype": "text/x-python",
   "name": "python",
   "nbconvert_exporter": "python",
   "pygments_lexer": "ipython3",
   "version": "3.9.12"
  }
 },
 "nbformat": 4,
 "nbformat_minor": 5
}
