{
 "cells": [
  {
   "cell_type": "code",
   "execution_count": 1,
   "id": "c170513f",
   "metadata": {},
   "outputs": [],
   "source": [
    "## Implementation of stack using array data structure\n",
    "## URL is using the stack data structure -> LIFO\n",
    "## append -> pushing the data inside the stack\n",
    "stack = []\n",
    "stack.append('https://leetcode.com/')\n",
    "stack.append('https://leetcode.com/explore/')\n",
    "stack.append('https://leetcode.com/problemset/all/')\n",
    "stack.append('https://leetcode.com/problems/two-sum/')"
   ]
  },
  {
   "cell_type": "code",
   "execution_count": 2,
   "id": "61075f9a",
   "metadata": {},
   "outputs": [
    {
     "data": {
      "text/plain": [
       "'https://leetcode.com/problems/two-sum/'"
      ]
     },
     "execution_count": 2,
     "metadata": {},
     "output_type": "execute_result"
    }
   ],
   "source": [
    "## pop the data from the stack\n",
    "stack.pop()"
   ]
  },
  {
   "cell_type": "code",
   "execution_count": 3,
   "id": "8f17db0f",
   "metadata": {},
   "outputs": [
    {
     "data": {
      "text/plain": [
       "['https://leetcode.com/',\n",
       " 'https://leetcode.com/explore/',\n",
       " 'https://leetcode.com/problemset/all/']"
      ]
     },
     "execution_count": 3,
     "metadata": {},
     "output_type": "execute_result"
    }
   ],
   "source": [
    "stack"
   ]
  },
  {
   "cell_type": "code",
   "execution_count": 4,
   "id": "041482c6",
   "metadata": {},
   "outputs": [
    {
     "data": {
      "text/plain": [
       "'https://leetcode.com/problemset/all/'"
      ]
     },
     "execution_count": 4,
     "metadata": {},
     "output_type": "execute_result"
    }
   ],
   "source": [
    "## peek function inside the stack data structure\n",
    "stack[-1]"
   ]
  },
  {
   "cell_type": "code",
   "execution_count": 5,
   "id": "39eddd99",
   "metadata": {},
   "outputs": [
    {
     "data": {
      "text/plain": [
       "'https://leetcode.com/problemset/all/'"
      ]
     },
     "execution_count": 5,
     "metadata": {},
     "output_type": "execute_result"
    }
   ],
   "source": [
    "stack.pop()"
   ]
  },
  {
   "cell_type": "code",
   "execution_count": 6,
   "id": "16b27334",
   "metadata": {},
   "outputs": [
    {
     "data": {
      "text/plain": [
       "['https://leetcode.com/', 'https://leetcode.com/explore/']"
      ]
     },
     "execution_count": 6,
     "metadata": {},
     "output_type": "execute_result"
    }
   ],
   "source": [
    "stack"
   ]
  },
  {
   "cell_type": "code",
   "execution_count": 7,
   "id": "8c4fadd2",
   "metadata": {},
   "outputs": [
    {
     "data": {
      "text/plain": [
       "'https://leetcode.com/explore/'"
      ]
     },
     "execution_count": 7,
     "metadata": {},
     "output_type": "execute_result"
    }
   ],
   "source": [
    "stack.pop()"
   ]
  },
  {
   "cell_type": "code",
   "execution_count": 8,
   "id": "0ceb655c",
   "metadata": {},
   "outputs": [
    {
     "data": {
      "text/plain": [
       "['https://leetcode.com/']"
      ]
     },
     "execution_count": 8,
     "metadata": {},
     "output_type": "execute_result"
    }
   ],
   "source": [
    "stack"
   ]
  },
  {
   "cell_type": "code",
   "execution_count": 9,
   "id": "a2581d02",
   "metadata": {},
   "outputs": [
    {
     "data": {
      "text/plain": [
       "'https://leetcode.com/'"
      ]
     },
     "execution_count": 9,
     "metadata": {},
     "output_type": "execute_result"
    }
   ],
   "source": [
    "stack.pop()"
   ]
  },
  {
   "cell_type": "code",
   "execution_count": 10,
   "id": "af222ed2",
   "metadata": {},
   "outputs": [
    {
     "data": {
      "text/plain": [
       "[]"
      ]
     },
     "execution_count": 10,
     "metadata": {},
     "output_type": "execute_result"
    }
   ],
   "source": [
    "stack"
   ]
  },
  {
   "cell_type": "code",
   "execution_count": 12,
   "id": "8ee0bcdb",
   "metadata": {},
   "outputs": [],
   "source": [
    "## Implementation of stack using circular deque\n",
    "from collections import deque\n",
    "stack = deque()"
   ]
  },
  {
   "cell_type": "code",
   "execution_count": 13,
   "id": "9a4ef11e",
   "metadata": {},
   "outputs": [
    {
     "data": {
      "text/plain": [
       "['__add__',\n",
       " '__bool__',\n",
       " '__class__',\n",
       " '__class_getitem__',\n",
       " '__contains__',\n",
       " '__copy__',\n",
       " '__delattr__',\n",
       " '__delitem__',\n",
       " '__dir__',\n",
       " '__doc__',\n",
       " '__eq__',\n",
       " '__format__',\n",
       " '__ge__',\n",
       " '__getattribute__',\n",
       " '__getitem__',\n",
       " '__gt__',\n",
       " '__hash__',\n",
       " '__iadd__',\n",
       " '__imul__',\n",
       " '__init__',\n",
       " '__init_subclass__',\n",
       " '__iter__',\n",
       " '__le__',\n",
       " '__len__',\n",
       " '__lt__',\n",
       " '__mul__',\n",
       " '__ne__',\n",
       " '__new__',\n",
       " '__reduce__',\n",
       " '__reduce_ex__',\n",
       " '__repr__',\n",
       " '__reversed__',\n",
       " '__rmul__',\n",
       " '__setattr__',\n",
       " '__setitem__',\n",
       " '__sizeof__',\n",
       " '__str__',\n",
       " '__subclasshook__',\n",
       " 'append',\n",
       " 'appendleft',\n",
       " 'clear',\n",
       " 'copy',\n",
       " 'count',\n",
       " 'extend',\n",
       " 'extendleft',\n",
       " 'index',\n",
       " 'insert',\n",
       " 'maxlen',\n",
       " 'pop',\n",
       " 'popleft',\n",
       " 'remove',\n",
       " 'reverse',\n",
       " 'rotate']"
      ]
     },
     "execution_count": 13,
     "metadata": {},
     "output_type": "execute_result"
    }
   ],
   "source": [
    "dir(stack)"
   ]
  },
  {
   "cell_type": "code",
   "execution_count": 14,
   "id": "b86e5393",
   "metadata": {},
   "outputs": [],
   "source": [
    "stack.append('https://leetcode.com/')\n",
    "stack.append('https://leetcode.com/explore/')\n",
    "stack.append('https://leetcode.com/problemset/all/')\n",
    "stack.append('https://leetcode.com/problems/two-sum/')"
   ]
  },
  {
   "cell_type": "code",
   "execution_count": 15,
   "id": "b0b58a94",
   "metadata": {},
   "outputs": [
    {
     "data": {
      "text/plain": [
       "deque(['https://leetcode.com/',\n",
       "       'https://leetcode.com/explore/',\n",
       "       'https://leetcode.com/problemset/all/',\n",
       "       'https://leetcode.com/problems/two-sum/'])"
      ]
     },
     "execution_count": 15,
     "metadata": {},
     "output_type": "execute_result"
    }
   ],
   "source": [
    "stack"
   ]
  },
  {
   "cell_type": "code",
   "execution_count": 16,
   "id": "35eae96f",
   "metadata": {},
   "outputs": [
    {
     "data": {
      "text/plain": [
       "'https://leetcode.com/problems/two-sum/'"
      ]
     },
     "execution_count": 16,
     "metadata": {},
     "output_type": "execute_result"
    }
   ],
   "source": [
    "stack.pop()"
   ]
  },
  {
   "cell_type": "code",
   "execution_count": 17,
   "id": "895acd62",
   "metadata": {},
   "outputs": [
    {
     "data": {
      "text/plain": [
       "deque(['https://leetcode.com/',\n",
       "       'https://leetcode.com/explore/',\n",
       "       'https://leetcode.com/problemset/all/'])"
      ]
     },
     "execution_count": 17,
     "metadata": {},
     "output_type": "execute_result"
    }
   ],
   "source": [
    "stack"
   ]
  },
  {
   "cell_type": "code",
   "execution_count": 18,
   "id": "674c6b50",
   "metadata": {},
   "outputs": [],
   "source": [
    "## Create your own class and define the function inside that for the stack\n",
    "## data structure\n",
    "class Stack:\n",
    "    def __init__(self):\n",
    "        self.data = deque()\n",
    "    \n",
    "    ## insertion inside the stack data structure\n",
    "    def push(self, data):\n",
    "        self.data.append(data)\n",
    "    \n",
    "    ## deletion inside the stack data structure\n",
    "    def pop(self):\n",
    "        return self.data.pop()\n",
    "    \n",
    "    ## last element inside the stack data structure\n",
    "    def peek(self):\n",
    "        return self.data[-1]\n",
    "    \n",
    "    ## size of the stack\n",
    "    def size(self):\n",
    "        return len(self.data)\n",
    "    \n",
    "    ## to check whether the stack is empty or not\n",
    "    def isEmpty(self):\n",
    "        return len(self.data) == 0\n",
    "        "
   ]
  },
  {
   "cell_type": "code",
   "execution_count": 22,
   "id": "eff12a7c",
   "metadata": {},
   "outputs": [],
   "source": [
    "s = Stack()\n",
    "s.push(19)\n",
    "s.push(18)\n",
    "s.push(12)\n",
    "s.push(5)\n",
    "s.push(14)"
   ]
  },
  {
   "cell_type": "code",
   "execution_count": 23,
   "id": "7af20685",
   "metadata": {},
   "outputs": [
    {
     "data": {
      "text/plain": [
       "14"
      ]
     },
     "execution_count": 23,
     "metadata": {},
     "output_type": "execute_result"
    }
   ],
   "source": [
    "s.peek()"
   ]
  },
  {
   "cell_type": "code",
   "execution_count": 24,
   "id": "b3f6896f",
   "metadata": {},
   "outputs": [
    {
     "data": {
      "text/plain": [
       "False"
      ]
     },
     "execution_count": 24,
     "metadata": {},
     "output_type": "execute_result"
    }
   ],
   "source": [
    "s.isEmpty()"
   ]
  },
  {
   "cell_type": "code",
   "execution_count": 25,
   "id": "beb8e173",
   "metadata": {},
   "outputs": [
    {
     "data": {
      "text/plain": [
       "14"
      ]
     },
     "execution_count": 25,
     "metadata": {},
     "output_type": "execute_result"
    }
   ],
   "source": [
    "s.pop()"
   ]
  },
  {
   "cell_type": "code",
   "execution_count": null,
   "id": "de8230fe",
   "metadata": {},
   "outputs": [],
   "source": []
  }
 ],
 "metadata": {
  "kernelspec": {
   "display_name": "Python 3 (ipykernel)",
   "language": "python",
   "name": "python3"
  },
  "language_info": {
   "codemirror_mode": {
    "name": "ipython",
    "version": 3
   },
   "file_extension": ".py",
   "mimetype": "text/x-python",
   "name": "python",
   "nbconvert_exporter": "python",
   "pygments_lexer": "ipython3",
   "version": "3.9.12"
  }
 },
 "nbformat": 4,
 "nbformat_minor": 5
}
