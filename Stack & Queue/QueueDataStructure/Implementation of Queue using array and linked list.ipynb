{
 "cells": [
  {
   "cell_type": "code",
   "execution_count": 1,
   "id": "e39395dd",
   "metadata": {},
   "outputs": [],
   "source": [
    "## Queue -> FIFO(First In First Out)\n",
    "## Enqueue operation in a queue using an array data structure\n",
    "ICICI_Preduntial_Mutual_Stock = []\n",
    "ICICI_Preduntial_Mutual_Stock.insert(0, 12)\n",
    "ICICI_Preduntial_Mutual_Stock.insert(0, 16)\n",
    "ICICI_Preduntial_Mutual_Stock.insert(0, 19)"
   ]
  },
  {
   "cell_type": "code",
   "execution_count": 2,
   "id": "f2999a02",
   "metadata": {},
   "outputs": [
    {
     "data": {
      "text/plain": [
       "[19, 16, 12]"
      ]
     },
     "execution_count": 2,
     "metadata": {},
     "output_type": "execute_result"
    }
   ],
   "source": [
    "ICICI_Preduntial_Mutual_Stock"
   ]
  },
  {
   "cell_type": "code",
   "execution_count": 3,
   "id": "77acb3bd",
   "metadata": {},
   "outputs": [
    {
     "data": {
      "text/plain": [
       "12"
      ]
     },
     "execution_count": 3,
     "metadata": {},
     "output_type": "execute_result"
    }
   ],
   "source": [
    "## Dequeue operation in the queue data structure\n",
    "ICICI_Preduntial_Mutual_Stock.pop()"
   ]
  },
  {
   "cell_type": "code",
   "execution_count": 4,
   "id": "efd80fd0",
   "metadata": {},
   "outputs": [
    {
     "data": {
      "text/plain": [
       "16"
      ]
     },
     "execution_count": 4,
     "metadata": {},
     "output_type": "execute_result"
    }
   ],
   "source": [
    "ICICI_Preduntial_Mutual_Stock.pop()"
   ]
  },
  {
   "cell_type": "code",
   "execution_count": 5,
   "id": "4585af99",
   "metadata": {},
   "outputs": [
    {
     "data": {
      "text/plain": [
       "[19]"
      ]
     },
     "execution_count": 5,
     "metadata": {},
     "output_type": "execute_result"
    }
   ],
   "source": [
    "ICICI_Preduntial_Mutual_Stock"
   ]
  },
  {
   "cell_type": "code",
   "execution_count": 6,
   "id": "87337d58",
   "metadata": {},
   "outputs": [
    {
     "data": {
      "text/plain": [
       "19"
      ]
     },
     "execution_count": 6,
     "metadata": {},
     "output_type": "execute_result"
    }
   ],
   "source": [
    "ICICI_Preduntial_Mutual_Stock.pop()"
   ]
  },
  {
   "cell_type": "code",
   "execution_count": 7,
   "id": "91df1fc3",
   "metadata": {},
   "outputs": [],
   "source": [
    "## Enqueue operation in the queue data structure using the linked list\n",
    "from collections import deque\n",
    "q = deque()"
   ]
  },
  {
   "cell_type": "code",
   "execution_count": 8,
   "id": "4c850c15",
   "metadata": {},
   "outputs": [
    {
     "data": {
      "text/plain": [
       "['__add__',\n",
       " '__bool__',\n",
       " '__class__',\n",
       " '__class_getitem__',\n",
       " '__contains__',\n",
       " '__copy__',\n",
       " '__delattr__',\n",
       " '__delitem__',\n",
       " '__dir__',\n",
       " '__doc__',\n",
       " '__eq__',\n",
       " '__format__',\n",
       " '__ge__',\n",
       " '__getattribute__',\n",
       " '__getitem__',\n",
       " '__gt__',\n",
       " '__hash__',\n",
       " '__iadd__',\n",
       " '__imul__',\n",
       " '__init__',\n",
       " '__init_subclass__',\n",
       " '__iter__',\n",
       " '__le__',\n",
       " '__len__',\n",
       " '__lt__',\n",
       " '__mul__',\n",
       " '__ne__',\n",
       " '__new__',\n",
       " '__reduce__',\n",
       " '__reduce_ex__',\n",
       " '__repr__',\n",
       " '__reversed__',\n",
       " '__rmul__',\n",
       " '__setattr__',\n",
       " '__setitem__',\n",
       " '__sizeof__',\n",
       " '__str__',\n",
       " '__subclasshook__',\n",
       " 'append',\n",
       " 'appendleft',\n",
       " 'clear',\n",
       " 'copy',\n",
       " 'count',\n",
       " 'extend',\n",
       " 'extendleft',\n",
       " 'index',\n",
       " 'insert',\n",
       " 'maxlen',\n",
       " 'pop',\n",
       " 'popleft',\n",
       " 'remove',\n",
       " 'reverse',\n",
       " 'rotate']"
      ]
     },
     "execution_count": 8,
     "metadata": {},
     "output_type": "execute_result"
    }
   ],
   "source": [
    "## number of operations inside the collections.deque\n",
    "dir(q)"
   ]
  },
  {
   "cell_type": "code",
   "execution_count": 9,
   "id": "3a7c39dd",
   "metadata": {},
   "outputs": [],
   "source": [
    "## Enqueue operation inside the queue data structure\n",
    "## FIFO Operation is executed\n",
    "q.appendleft(12)\n",
    "q.appendleft(16)\n",
    "q.appendleft(19)"
   ]
  },
  {
   "cell_type": "code",
   "execution_count": 10,
   "id": "1e7aa806",
   "metadata": {},
   "outputs": [
    {
     "data": {
      "text/plain": [
       "deque([19, 16, 12])"
      ]
     },
     "execution_count": 10,
     "metadata": {},
     "output_type": "execute_result"
    }
   ],
   "source": [
    "q"
   ]
  },
  {
   "cell_type": "code",
   "execution_count": 11,
   "id": "15c0e19a",
   "metadata": {},
   "outputs": [
    {
     "data": {
      "text/plain": [
       "12"
      ]
     },
     "execution_count": 11,
     "metadata": {},
     "output_type": "execute_result"
    }
   ],
   "source": [
    "## Pop operation inside the queue data structure\n",
    "q.pop()"
   ]
  },
  {
   "cell_type": "code",
   "execution_count": 12,
   "id": "f4f68ceb",
   "metadata": {},
   "outputs": [
    {
     "data": {
      "text/plain": [
       "16"
      ]
     },
     "execution_count": 12,
     "metadata": {},
     "output_type": "execute_result"
    }
   ],
   "source": [
    "q.pop()"
   ]
  },
  {
   "cell_type": "code",
   "execution_count": 13,
   "id": "a8ff8674",
   "metadata": {},
   "outputs": [],
   "source": [
    "## Create a class of Queue with it's method\n",
    "class Queue:\n",
    "    def __init__(self):\n",
    "        self.buffer = deque()\n",
    "    \n",
    "    def enqueue(self, data):\n",
    "        self.buffer.appendleft(data)\n",
    "    \n",
    "    def isEmpty(self):\n",
    "        return len(self.buffer) == 0\n",
    "    \n",
    "    def size(self):\n",
    "        return len(self.buffer)\n",
    "    \n",
    "    def dequeue(self):\n",
    "        return self.buffer.pop()"
   ]
  },
  {
   "cell_type": "code",
   "execution_count": 14,
   "id": "56dcce10",
   "metadata": {},
   "outputs": [],
   "source": [
    "q = Queue()\n",
    "q.enqueue(12)"
   ]
  },
  {
   "cell_type": "code",
   "execution_count": 15,
   "id": "e95956b2",
   "metadata": {},
   "outputs": [],
   "source": [
    "q.enqueue(16)"
   ]
  },
  {
   "cell_type": "code",
   "execution_count": 16,
   "id": "56e23c38",
   "metadata": {},
   "outputs": [],
   "source": [
    "q.enqueue(19)"
   ]
  },
  {
   "cell_type": "code",
   "execution_count": 17,
   "id": "0e726d08",
   "metadata": {},
   "outputs": [
    {
     "data": {
      "text/plain": [
       "3"
      ]
     },
     "execution_count": 17,
     "metadata": {},
     "output_type": "execute_result"
    }
   ],
   "source": [
    "q.size()"
   ]
  },
  {
   "cell_type": "code",
   "execution_count": 18,
   "id": "a52303ad",
   "metadata": {},
   "outputs": [
    {
     "data": {
      "text/plain": [
       "12"
      ]
     },
     "execution_count": 18,
     "metadata": {},
     "output_type": "execute_result"
    }
   ],
   "source": [
    "q.dequeue()"
   ]
  },
  {
   "cell_type": "code",
   "execution_count": 19,
   "id": "e693729e",
   "metadata": {},
   "outputs": [
    {
     "data": {
      "text/plain": [
       "2"
      ]
     },
     "execution_count": 19,
     "metadata": {},
     "output_type": "execute_result"
    }
   ],
   "source": [
    "q.size()"
   ]
  },
  {
   "cell_type": "code",
   "execution_count": null,
   "id": "e28d0183",
   "metadata": {},
   "outputs": [],
   "source": [
    "## Stack and Queue\n",
    "## Insertion and Deletion- O(1)(constant time complexity)\n",
    "## Access and Search for an element - O(n)"
   ]
  }
 ],
 "metadata": {
  "kernelspec": {
   "display_name": "Python 3 (ipykernel)",
   "language": "python",
   "name": "python3"
  },
  "language_info": {
   "codemirror_mode": {
    "name": "ipython",
    "version": 3
   },
   "file_extension": ".py",
   "mimetype": "text/x-python",
   "name": "python",
   "nbconvert_exporter": "python",
   "pygments_lexer": "ipython3",
   "version": "3.9.12"
  }
 },
 "nbformat": 4,
 "nbformat_minor": 5
}
